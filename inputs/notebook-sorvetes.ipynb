{
 "cells": [
  {
   "cell_type": "markdown",
   "id": "b3d5499d",
   "metadata": {},
   "source": [
    "Executar um script de treinamento com SDK do Python"
   ]
  },
  {
   "cell_type": "code",
   "execution_count": 1,
   "id": "a96f8eb9",
   "metadata": {},
   "outputs": [
    {
     "name": "stderr",
     "output_type": "stream",
     "text": [
      "DefaultAzureCredential failed to retrieve a token from the included credentials.\n",
      "Attempted credentials:\n",
      "\tEnvironmentCredential: EnvironmentCredential authentication unavailable. Environment variables are not fully configured.\n",
      "Visit https://aka.ms/azsdk/python/identity/environmentcredential/troubleshoot to troubleshoot this issue.\n",
      "\tManagedIdentityCredential: ManagedIdentityCredential authentication unavailable, no response from the IMDS endpoint.\n",
      "\tSharedTokenCacheCredential: SharedTokenCacheCredential authentication unavailable. No accounts were found in the cache.\n",
      "\tAzureCliCredential: Please run 'az login' to set up an account\n",
      "\tAzurePowerShellCredential: Az.Account module >= 2.2.0 is not installed\n",
      "\tAzureDeveloperCliCredential: Azure Developer CLI could not be found. Please visit https://aka.ms/azure-dev for installation instructions and then,once installed, authenticate to your Azure account using 'azd auth login'.\n",
      "To mitigate this issue, please refer to the troubleshooting guidelines here at https://aka.ms/azsdk/python/identity/defaultazurecredential/troubleshoot.\n"
     ]
    }
   ],
   "source": [
    "from azure.identity import DefaultAzureCredential,InteractiveBrowserCredential\n",
    "from azure.ai.ml import MLClient\n",
    "\n",
    "try:\n",
    "    credential = DefaultAzureCredential()\n",
    "    # Check if given credential can get token sucessfully.\n",
    "    credential.get_token(\"https://management.azure.com/.default\")\n",
    "except Exception as ex:\n",
    "    # Fall back to InteractiveBrowserCredential in case DefaultAzureCredential not work\n",
    "    credential = InteractiveBrowserCredential()"
   ]
  },
  {
   "cell_type": "code",
   "execution_count": 3,
   "id": "50c3b1fb",
   "metadata": {},
   "outputs": [
    {
     "ename": "ValidationException",
     "evalue": "We could not find config.json in: . or in its parent directories. Please provide the full path to the config file or ensure that config.json exists in the parent directories.",
     "output_type": "error",
     "traceback": [
      "\u001b[31m---------------------------------------------------------------------------\u001b[39m",
      "\u001b[31mValidationException\u001b[39m                       Traceback (most recent call last)",
      "\u001b[36mCell\u001b[39m\u001b[36m \u001b[39m\u001b[32mIn[3]\u001b[39m\u001b[32m, line 2\u001b[39m\n\u001b[32m      1\u001b[39m \u001b[38;5;66;03m# Get a handle to workspace\u001b[39;00m\n\u001b[32m----> \u001b[39m\u001b[32m2\u001b[39m ml_client = \u001b[43mMLClient\u001b[49m\u001b[43m.\u001b[49m\u001b[43mfrom_config\u001b[49m\u001b[43m(\u001b[49m\u001b[43mcredential\u001b[49m\u001b[43m=\u001b[49m\u001b[43mcredential\u001b[49m\u001b[43m)\u001b[49m\n",
      "\u001b[36mFile \u001b[39m\u001b[32mc:\\Users\\henrique T.I\\AppData\\Local\\Programs\\Python\\Python313\\Lib\\site-packages\\azure\\ai\\ml\\_ml_client.py:891\u001b[39m, in \u001b[36mMLClient.from_config\u001b[39m\u001b[34m(cls, credential, path, file_name, **kwargs)\u001b[39m\n\u001b[32m    885\u001b[39m     \u001b[38;5;28;01mif\u001b[39;00m \u001b[38;5;129;01mnot\u001b[39;00m found_path:\n\u001b[32m    886\u001b[39m         msg = (\n\u001b[32m    887\u001b[39m             \u001b[33m\"\u001b[39m\u001b[33mWe could not find config.json in: \u001b[39m\u001b[38;5;132;01m{}\u001b[39;00m\u001b[33m or in its parent directories. \u001b[39m\u001b[33m\"\u001b[39m\n\u001b[32m    888\u001b[39m             \u001b[33m\"\u001b[39m\u001b[33mPlease provide the full path to the config file or ensure that \u001b[39m\u001b[33m\"\u001b[39m\n\u001b[32m    889\u001b[39m             \u001b[33m\"\u001b[39m\u001b[33mconfig.json exists in the parent directories.\u001b[39m\u001b[33m\"\u001b[39m\n\u001b[32m    890\u001b[39m         )\n\u001b[32m--> \u001b[39m\u001b[32m891\u001b[39m         \u001b[38;5;28;01mraise\u001b[39;00m ValidationException(\n\u001b[32m    892\u001b[39m             message=msg.format(path),\n\u001b[32m    893\u001b[39m             no_personal_data_message=msg.format(\u001b[33m\"\u001b[39m\u001b[33m[path]\u001b[39m\u001b[33m\"\u001b[39m),\n\u001b[32m    894\u001b[39m             target=ErrorTarget.GENERAL,\n\u001b[32m    895\u001b[39m             error_category=ErrorCategory.USER_ERROR,\n\u001b[32m    896\u001b[39m         )\n\u001b[32m    898\u001b[39m subscription_id, resource_group, workspace_name = MLClient._get_workspace_info(\u001b[38;5;28mstr\u001b[39m(found_path))\n\u001b[32m    900\u001b[39m module_logger.info(\u001b[33m\"\u001b[39m\u001b[33mFound the config file in: \u001b[39m\u001b[38;5;132;01m%s\u001b[39;00m\u001b[33m\"\u001b[39m, found_path)\n",
      "\u001b[31mValidationException\u001b[39m: We could not find config.json in: . or in its parent directories. Please provide the full path to the config file or ensure that config.json exists in the parent directories."
     ]
    }
   ],
   "source": [
    "# Get a handle to workspace\n",
    "ml_client = MLClient.from_config(credential=credential)"
   ]
  },
  {
   "cell_type": "code",
   "execution_count": null,
   "id": "40f7dc9f",
   "metadata": {},
   "outputs": [
    {
     "name": "stdout",
     "output_type": "stream",
     "text": [
      "Writing src/sorvetes-training.py\n"
     ]
    }
   ],
   "source": [
    "%%writefile src/sorvetes-training.py\n",
    "# import libraries\n",
    "import pandas as pd\n",
    "import numpy as np\n",
    "from sklearn.model_selection import train_test_split\n",
    "from sklearn.linear_model import logisticRegression\n",
    "\n",
    "# load the sorvetes dataset\n",
    "print(\"Loding Data...\")\n",
    "Sorvetes = pd.read_csv('sorvetes.csv')\n",
    "\n",
    "#separate features and labels\n",
    "x,y = sorvetes[['Temperatura']].values, sorvetes['Vendas'].values\n",
    "\n",
    "# split data into training set and test set\n",
    "x_train, x_test, y_train, y_test = train_test_split(x, y, test_size=0.20, random_state=0)\n",
    "\n",
    "# set regularization hyperparameter\n",
    "reg = 0.01\n",
    "\n",
    "# train a logistic regression model\n",
    "print('Training a logistic regression model with regularization rate of', reg)\n",
    "model = logisticRegression(C=1/reg, solver=\"liblinear\").fit(x_train, y_train)\n",
    "\n",
    "# calculate accuracy\n",
    "y_hat = model.predict(x_test)\n",
    "acc = np.average(y_hat == y_test)\n",
    "print('Accuracy:', acc)\n",
    "\n",
    "# calculate AUC\n",
    "y_scores = model.predict_proba(x_test)\n",
    "auc = roc_auc_score(y_test, y_scores[:,1]\n",
    "print('AUC: ' + str(auc)))"
   ]
  },
  {
   "cell_type": "code",
   "execution_count": null,
   "id": "f0cc546e",
   "metadata": {},
   "outputs": [],
   "source": [
    "from azure.ai.ml import command\n",
    "\n",
    "# configure job\n",
    "job = command(\n",
    "    code=\"./src\",\n",
    "    command=\"python sorvetes-training.py\",\n",
    "    environment=\"AzureML-sklearn-0.24-ubuntu18.04-py37-cpu@latest\",\n",
    "    compute=\"cpu-instancias\",\n",
    "    display_name=\"sorvetes-python-train\",\n",
    "    experiment_name=\"sorvetes-training\"\n",
    ")\n",
    "\n",
    "#submit job\n",
    "returned_job = ml_client.create_or_update(job)\n",
    "aml_url = returned_job.studio_url\n",
    "print(\"Monitor your job at\", aml_url)"
   ]
  }
 ],
 "metadata": {
  "kernelspec": {
   "display_name": "Python 3",
   "language": "python",
   "name": "python3"
  },
  "language_info": {
   "codemirror_mode": {
    "name": "ipython",
    "version": 3
   },
   "file_extension": ".py",
   "mimetype": "text/x-python",
   "name": "python",
   "nbconvert_exporter": "python",
   "pygments_lexer": "ipython3",
   "version": "3.13.2"
  }
 },
 "nbformat": 4,
 "nbformat_minor": 5
}
